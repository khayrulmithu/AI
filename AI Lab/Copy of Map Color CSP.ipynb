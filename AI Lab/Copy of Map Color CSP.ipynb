{
 "cells": [
  {
   "cell_type": "code",
   "execution_count": 1,
   "metadata": {
    "colab": {
     "base_uri": "https://localhost:8080/"
    },
    "executionInfo": {
     "elapsed": 19,
     "status": "ok",
     "timestamp": 1678384830345,
     "user": {
      "displayName": "Alimul Rajee",
      "userId": "08618116113454028501"
     },
     "user_tz": -360
    },
    "id": "i48gT8yh7XxP",
    "outputId": "7fd05c82-3545-4027-b395-902dd7effe93"
   },
   "outputs": [
    {
     "name": "stdout",
     "output_type": "stream",
     "text": [
      "Solution Exists: Following are the assigned colors \n",
      "1 2 3 2 "
     ]
    }
   ],
   "source": [
    "# Python3 program for the above approach\n",
    "#https://www.geeksforgeeks.org/m-coloring-problem/\n",
    "# Number of vertices in the graph\n",
    "# define 4 4\n",
    "\n",
    "# check if the colored\n",
    "# graph is safe or not\n",
    "\n",
    "\n",
    "def isSafe(graph, color):\n",
    "\n",
    "\t# check for every edge\n",
    "\tfor i in range(4):\n",
    "\t\tfor j in range(i + 1, 4):\n",
    "\t\t\tif (graph[i][j] and color[j] == color[i]):\n",
    "\t\t\t\treturn False\n",
    "\treturn True\n",
    "\n",
    "# /* This function solves the m Coloring\n",
    "# problem using recursion. It returns\n",
    "# false if the m colours cannot be assigned,\n",
    "# otherwise, return true and prints\n",
    "# assignments of colours to all vertices.\n",
    "# Please note that there may be more than\n",
    "# one solutions, this function prints one\n",
    "# of the feasible solutions.*/\n",
    "\n",
    "\n",
    "def graphColoring(graph, m, i, color):\n",
    "\n",
    "\t# if current index reached end\n",
    "\tif (i == 4):\n",
    "\n",
    "\t\t# if coloring is safe\n",
    "\t\tif (isSafe(graph, color)):\n",
    "\n",
    "\t\t\t# Print the solution\n",
    "\t\t\tprintSolution(color)\n",
    "\t\t\treturn True\n",
    "\t\treturn False\n",
    "\n",
    "\t# Assign each color from 1 to m\n",
    "\tfor j in range(1, m + 1):\n",
    "\t\tcolor[i] = j\n",
    "\n",
    "\t\t# Recur of the rest vertices\n",
    "\t\tif (graphColoring(graph, m, i + 1, color)):\n",
    "\t\t\treturn True\n",
    "\t\tcolor[i] = 0\n",
    "\treturn False\n",
    "\n",
    "# /* A utility function to print solution */\n",
    "\n",
    "\n",
    "def printSolution(color):\n",
    "\tprint(\"Solution Exists:\" \" Following are the assigned colors \")\n",
    "\tfor i in range(4):\n",
    "\t\tprint(color[i], end=\" \")\n",
    "\n",
    "\n",
    "# Driver code\n",
    "if __name__ == '__main__':\n",
    "\n",
    "\t# /* Create following graph and\n",
    "\t# test whether it is 3 colorable\n",
    "\t# (3)---(2)\n",
    "\t# | / |\n",
    "\t# | / |\n",
    "\t# | / |\n",
    "\t# (0)---(1)\n",
    "\t# */\n",
    "\tgraph = [\n",
    "\t\t[0, 1, 1, 1],\n",
    "\t\t[1, 0, 1, 0],\n",
    "\t\t[1, 1, 0, 1],\n",
    "\t\t[1, 0, 1, 0],\n",
    "\t]\n",
    "\tm = 3 # Number of colors\n",
    "\n",
    "\t# Initialize all color values as 0.\n",
    "\t# This initialization is needed\n",
    "\t# correct functioning of isSafe()\n",
    "\tcolor = [0 for i in range(4)]\n",
    "\n",
    "\t# Function call\n",
    "\tif (not graphColoring(graph, m, 0, color)):\n",
    "\t\tprint(\"Solution does not exist\")\n",
    "\n",
    "# This code is contributed by mohit kumar 29\n"
   ]
  },
  {
   "cell_type": "code",
   "execution_count": null,
   "metadata": {
    "id": "j8ckganGjgnV"
   },
   "outputs": [],
   "source": [
    "pip install dimod\n"
   ]
  },
  {
   "cell_type": "code",
   "execution_count": null,
   "metadata": {
    "id": "5eV1R7Lljun8"
   },
   "outputs": [],
   "source": [
    "pip install dwave-system"
   ]
  },
  {
   "cell_type": "code",
   "execution_count": 30,
   "metadata": {
    "executionInfo": {
     "elapsed": 665,
     "status": "ok",
     "timestamp": 1678386075266,
     "user": {
      "displayName": "Alimul Rajee",
      "userId": "08618116113454028501"
     },
     "user_tz": -360
    },
    "id": "HkrGGq7ai0jW"
   },
   "outputs": [],
   "source": [
    "#https://docs.ocean.dwavesys.com/en/stable/examples/map_coloring.html\n",
    "import networkx as nx\n",
    "import matplotlib.pyplot as plt    \n",
    "from dimod.generators import combinations\n",
    "from dimod import BinaryQuadraticModel, ExactSolver\n",
    "from dwave.system import DWaveSampler, EmbeddingComposite"
   ]
  },
  {
   "cell_type": "code",
   "execution_count": 31,
   "metadata": {
    "executionInfo": {
     "elapsed": 7,
     "status": "ok",
     "timestamp": 1678386076793,
     "user": {
      "displayName": "Alimul Rajee",
      "userId": "08618116113454028501"
     },
     "user_tz": -360
    },
    "id": "qKNQwy8dkIwB"
   },
   "outputs": [],
   "source": [
    "provinces = ['AB', 'BC', 'MB', 'NB', 'NL', 'NS', 'NT', 'NU', 'ON', 'PE',\n",
    "             'QC', 'SK', 'YT']\n",
    "neighbors = [('AB', 'BC'), ('AB', 'NT'), ('AB', 'SK'), ('BC', 'NT'), ('BC', 'YT'),\n",
    "             ('MB', 'NU'), ('MB', 'ON'), ('MB', 'SK'), ('NB', 'NS'), ('NB', 'QC'),\n",
    "             ('NL', 'QC'), ('NT', 'NU'), ('NT', 'SK'), ('NT', 'YT'), ('ON', 'QC')]"
   ]
  },
  {
   "cell_type": "code",
   "execution_count": 32,
   "metadata": {
    "executionInfo": {
     "elapsed": 5,
     "status": "ok",
     "timestamp": 1678386079478,
     "user": {
      "displayName": "Alimul Rajee",
      "userId": "08618116113454028501"
     },
     "user_tz": -360
    },
    "id": "b7F5Cvu3kI0s"
   },
   "outputs": [],
   "source": [
    "colors = ['y', 'g', 'r', 'b']"
   ]
  },
  {
   "cell_type": "code",
   "execution_count": null,
   "metadata": {
    "id": "DWcF2r6lkI4Y"
   },
   "outputs": [],
   "source": [
    "#In the code below, bqm_one_color uses a one-hot penalty model to formulate the constraint that each node (province) select a single color.\n",
    "\n",
    "bqm_one_hot = combinations(['a', 'b'], 1)\n",
    "print(bqm_one_hot)\n",
    "BinaryQuadraticModel({'a': -1.0, 'b': -1.0}, {('b', 'a'): 2.0}, 1.0, 'BINARY')\n",
    "print(ExactSolver().sample(bqm_one_hot))"
   ]
  },
  {
   "cell_type": "code",
   "execution_count": 34,
   "metadata": {
    "executionInfo": {
     "elapsed": 735,
     "status": "ok",
     "timestamp": 1678386083895,
     "user": {
      "displayName": "Alimul Rajee",
      "userId": "08618116113454028501"
     },
     "user_tz": -360
    },
    "id": "afsQ97-QkI76"
   },
   "outputs": [],
   "source": [
    "#Set a one-hot constraint on the four binary variables representing the possible colors for each province.\n",
    "\n",
    "bqm_one_color = BinaryQuadraticModel('BINARY')\n",
    "for province in provinces:\n",
    "  variables = [province + \"_\" + c for c in colors]\n",
    "  bqm_one_color.update(combinations(variables, 1))"
   ]
  },
  {
   "cell_type": "code",
   "execution_count": null,
   "metadata": {
    "id": "_mk1ipnVkzN0"
   },
   "outputs": [],
   "source": [
    "#As in the illustrative example above, the binary variables created for each province set linear biases of -1 and \n",
    "#quadratic biases of 2 that penalize states where more than a single color is selected.\n",
    "\n",
    "print([variable for variable in bqm_one_color.variables if provinces[0] in variable])\n",
    "\n",
    "print(bqm_one_color.linear['AB_y'], bqm_one_color.quadratic['AB_y', 'AB_g'])"
   ]
  },
  {
   "cell_type": "code",
   "execution_count": null,
   "metadata": {
    "id": "5eWNGQuQk7WG"
   },
   "outputs": [],
   "source": [
    "# In the code below, bqm_neighbors represents the constraint that two nodes (provinces) with a shared edge (border) not both select the same color.\n",
    "\n",
    "bqm_and = BinaryQuadraticModel({}, {'ab': -1}, 1, 'BINARY')\n",
    "print(ExactSolver().sample(bqm_and))"
   ]
  },
  {
   "cell_type": "code",
   "execution_count": null,
   "metadata": {
    "id": "gcRwNUtuk7ZI"
   },
   "outputs": [],
   "source": [
    "bqm_and_plus = BinaryQuadraticModel({}, {'ab': 1}, 0, 'BINARY')\n",
    "print(ExactSolver().sample(bqm_and_plus))"
   ]
  },
  {
   "cell_type": "code",
   "execution_count": 39,
   "metadata": {
    "executionInfo": {
     "elapsed": 462,
     "status": "ok",
     "timestamp": 1678386096148,
     "user": {
      "displayName": "Alimul Rajee",
      "userId": "08618116113454028501"
     },
     "user_tz": -360
    },
    "id": "5Hlh575Gll69"
   },
   "outputs": [],
   "source": [
    "bqm_neighbors  = BinaryQuadraticModel('BINARY')\n",
    "for neighbor in neighbors:\n",
    "  v, u = neighbor\n",
    "  interactions = [(v + \"_\" + c, u + \"_\" + c) for c in colors]\n",
    "  for interaction in interactions:\n",
    "     bqm_neighbors.add_quadratic(interaction[0], interaction[1], 1)"
   ]
  },
  {
   "cell_type": "code",
   "execution_count": null,
   "metadata": {
    "id": "DldhmGAVlmBh"
   },
   "outputs": [],
   "source": [
    "sampler = EmbeddingComposite(DWaveSampler())\n",
    "sampleset = sampler.sample(bqm, num_reads=1000,label='SDK Examples - Map Coloring BQM') \n",
    "best = sampleset.first     "
   ]
  },
  {
   "cell_type": "code",
   "execution_count": null,
   "metadata": {
    "id": "KnDKI1falmHU"
   },
   "outputs": [],
   "source": [
    "if best.energy > 0:        \n",
    "    print(\"Failed to color map. Try sampling again.\")"
   ]
  },
  {
   "cell_type": "code",
   "execution_count": 26,
   "metadata": {
    "executionInfo": {
     "elapsed": 713,
     "status": "ok",
     "timestamp": 1678385975934,
     "user": {
      "displayName": "Alimul Rajee",
      "userId": "08618116113454028501"
     },
     "user_tz": -360
    },
    "id": "UKidKC8ElmKh"
   },
   "outputs": [],
   "source": [
    "def plot_map(sample):\n",
    "    G = nx.Graph()\n",
    "    G.add_nodes_from(provinces)\n",
    "    G.add_edges_from(neighbors)\n",
    "    # Create a {province: selected color} dict\n",
    "    color_map = {}\n",
    "    for province in provinces:\n",
    "      for c in colors:\n",
    "       if sample[province + '_' + c]:\n",
    "           color_map[province] = c\n",
    "    # Plot with the selected colors\n",
    "    node_colors = [color_map.get(node) for node in G.nodes()]\n",
    "    nx.draw_circular(G, with_labels=True, node_color=node_colors, node_size=3000, cmap=plt.cm.rainbow)\n",
    "    plt.show()"
   ]
  },
  {
   "cell_type": "code",
   "execution_count": null,
   "metadata": {
    "id": "HkJKxI--kzQt"
   },
   "outputs": [],
   "source": [
    "plot_map(best.sample)  "
   ]
  }
 ],
 "metadata": {
  "colab": {
   "authorship_tag": "ABX9TyNbdofrydB+dUBV/KC4bhaU",
   "provenance": []
  },
  "kernelspec": {
   "display_name": "Python 3",
   "name": "python3"
  },
  "language_info": {
   "name": "python"
  }
 },
 "nbformat": 4,
 "nbformat_minor": 0
}
