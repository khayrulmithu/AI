{
 "cells": [
  {
   "cell_type": "code",
   "execution_count": 3,
   "metadata": {
    "colab": {
     "base_uri": "https://localhost:8080/"
    },
    "executionInfo": {
     "elapsed": 1435,
     "status": "ok",
     "timestamp": 1678306384262,
     "user": {
      "displayName": "Alimul Rajee",
      "userId": "08618116113454028501"
     },
     "user_tz": -360
    },
    "id": "kOorPsBZ0SJt",
    "outputId": "83f9808a-68f3-4dfb-c7e3-dcfad4d37da2"
   },
   "outputs": [
    {
     "name": "stdout",
     "output_type": "stream",
     "text": [
      "Path from initial state to solution state ::\n",
      "( 0 , 0 )\n",
      "( 0 , 3 )\n",
      "( 5 , 0 )\n",
      "( 5 , 3 )\n",
      "( 3 , 0 )\n",
      "( 2 , 3 )\n",
      "( 2 , 0 )\n"
     ]
    }
   ],
   "source": [
    "from collections import deque\n",
    " \n",
    " \n",
    "def BFS(a, b, target):\n",
    " \n",
    "    m = {}\n",
    "    isSolvable = False\n",
    "    path = []\n",
    " \n",
    "   \n",
    "    q = deque()\n",
    " \n",
    "    q.append((0, 0))\n",
    " \n",
    "    while (len(q) > 0):\n",
    "        u = q.popleft()# If this state is already visited\n",
    "        if ((u[0], u[1]) in m):\n",
    "            continue\n",
    "        if ((u[0] > a or u[1] > b or\n",
    "             u[0] < 0 or u[1] < 0)):\n",
    "            continue\n",
    " \n",
    "        # Filling the vector for constructing\n",
    "        # the solution path\n",
    "        path.append([u[0], u[1]])\n",
    " \n",
    "        # Marking current state as visited\n",
    "        m[(u[0], u[1])] = 1\n",
    " \n",
    "        # If we reach solution state, put ans=1\n",
    "        if (u[0] == target or u[1] == target):\n",
    "            isSolvable = True\n",
    " \n",
    "            if (u[0] == target):\n",
    "                if (u[1] != 0):\n",
    " \n",
    "                    # Fill final state\n",
    "                    path.append([u[0], 0])\n",
    "            else:\n",
    "                if (u[0] != 0):\n",
    " \n",
    "                    # Fill final state\n",
    "                    path.append([0, u[1]])\n",
    " \n",
    "            # Print the solution path\n",
    "            sz = len(path)\n",
    "            for i in range(sz):\n",
    "                print(\"(\", path[i][0], \",\",\n",
    "                      path[i][1], \")\")\n",
    "            break\n",
    " \n",
    "        # If we have not reached final state\n",
    "        # then, start developing intermediate\n",
    "        # states to reach solution state\n",
    "        q.append([u[0], b])  # Fill Jug2\n",
    "        q.append([a, u[1]])  # Fill Jug1\n",
    " \n",
    "        for ap in range(max(a, b) + 1):\n",
    " \n",
    "            # Pour amount ap from Jug2 to Jug1\n",
    "            c = u[0] + ap\n",
    "            d = u[1] - ap\n",
    " \n",
    "            # Check if this state is possible or not\n",
    "            if (c == a or (d == 0 and d >= 0)):\n",
    "                q.append([c, d])\n",
    " \n",
    "            # Pour amount ap from Jug 1 to Jug2\n",
    "            c = u[0] - ap\n",
    "            d = u[1] + ap\n",
    " \n",
    "            # Check if this state is possible or not\n",
    "            if ((c == 0 and c >= 0) or d == b):\n",
    "                q.append([c, d])\n",
    " \n",
    "        # Empty Jug2\n",
    "        q.append([a, 0])\n",
    " \n",
    "        # Empty Jug1\n",
    "        q.append([0, b])\n",
    " \n",
    "    # No, solution exists if ans=0\n",
    "    if (not isSolvable):\n",
    "        print(\"No solution\")\n",
    " \n",
    " \n",
    "# Driver code\n",
    "if __name__ == '__main__':\n",
    " \n",
    "    Jug1, Jug2, target = 5, 3, 2\n",
    "    print(\"Path from initial state \"\n",
    "          \"to solution state ::\")\n",
    " \n",
    "    BFS(Jug1, Jug2, target)\n",
    "    \n",
    "    "
   ]
  },
  {
   "cell_type": "code",
   "execution_count": null,
   "metadata": {},
   "outputs": [],
   "source": []
  }
 ],
 "metadata": {
  "colab": {
   "authorship_tag": "ABX9TyM2IQ0o0F1OGIJylXaBKW0w",
   "provenance": []
  },
  "kernelspec": {
   "display_name": "Python 3 (ipykernel)",
   "language": "python",
   "name": "python3"
  },
  "language_info": {
   "codemirror_mode": {
    "name": "ipython",
    "version": 3
   },
   "file_extension": ".py",
   "mimetype": "text/x-python",
   "name": "python",
   "nbconvert_exporter": "python",
   "pygments_lexer": "ipython3",
   "version": "3.9.13"
  }
 },
 "nbformat": 4,
 "nbformat_minor": 1
}
