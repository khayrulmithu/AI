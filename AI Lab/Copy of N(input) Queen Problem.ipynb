{
 "cells": [
  {
   "cell_type": "code",
   "execution_count": 1,
   "metadata": {
    "colab": {
     "base_uri": "https://localhost:8080/"
    },
    "executionInfo": {
     "elapsed": 488,
     "status": "ok",
     "timestamp": 1678389571082,
     "user": {
      "displayName": "Alimul Rajee",
      "userId": "08618116113454028501"
     },
     "user_tz": -360
    },
    "id": "BTWj9x5uzyoW",
    "outputId": "e88bdb7d-a764-4453-8102-a1dd15289da4"
   },
   "outputs": [
    {
     "name": "stdout",
     "output_type": "stream",
     "text": [
      "(0, 1) (1, 3) (2, 0) (3, 2) \n",
      ".\tQ\t.\t.\t\n",
      ".\t.\t.\tQ\t\n",
      "Q\t.\t.\t.\t\n",
      ".\t.\tQ\t.\t\n"
     ]
    }
   ],
   "source": [
    "# N is the number of queens / rows / cols\n",
    "global N\n",
    "N = 4\n",
    "\n",
    "global L\n",
    "L = [-1 for x in range(N)]\n",
    "\n",
    "# Assume every queen is placed in a different row\n",
    "# So a function takes in some number representing row\n",
    "\n",
    "def is_safe(row, col):\n",
    "    for x in range(row):\n",
    "        c2 = L[x]\n",
    "        if(c2 >= 0 and c2 == col):\n",
    "            return False\n",
    "        if(c2 >= 0 and abs(col - c2) == abs(x - row)):\n",
    "            return False\n",
    "    return True\n",
    "\n",
    "def it(row):\n",
    "    if(row >= N):\n",
    "        return True\n",
    "\n",
    "    for i in range(N):\n",
    "        if(is_safe(row, i)):\n",
    "            L[row] = i\n",
    "            if(it(row + 1)):\n",
    "                return True\n",
    "            L[row] = -1\n",
    "    return False\n",
    "\n",
    "# Call initiator function\n",
    "if(it(0)):\n",
    "\tfor i in range(len(L)):\n",
    "\t\tprint(\"(\" + str(i) + \", \" + str(L[i]) + \") \", end='')\n",
    "\tprint()\n",
    "\tfor i in range(N):\n",
    "\t\tfor j in range(N):\n",
    "\t\t\tif(j in L and L[i] == j):\n",
    "\t\t\t\tprint(\"Q\\t\", end='')\n",
    "\t\t\telse:\n",
    "\t\t\t\tprint(\".\\t\", end='')\n",
    "\t\tprint()\n",
    "else:\n",
    "\tprint(\"No sequence found...\");"
   ]
  },
  {
   "cell_type": "code",
   "execution_count": null,
   "metadata": {},
   "outputs": [],
   "source": []
  }
 ],
 "metadata": {
  "colab": {
   "authorship_tag": "ABX9TyOzHb/9qY4XmzEZD+K7ECVC",
   "provenance": []
  },
  "kernelspec": {
   "display_name": "Python 3 (ipykernel)",
   "language": "python",
   "name": "python3"
  },
  "language_info": {
   "codemirror_mode": {
    "name": "ipython",
    "version": 3
   },
   "file_extension": ".py",
   "mimetype": "text/x-python",
   "name": "python",
   "nbconvert_exporter": "python",
   "pygments_lexer": "ipython3",
   "version": "3.9.13"
  }
 },
 "nbformat": 4,
 "nbformat_minor": 1
}
