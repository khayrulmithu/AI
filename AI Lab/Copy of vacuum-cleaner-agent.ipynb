{
 "cells": [
  {
   "cell_type": "code",
   "execution_count": 1,
   "metadata": {
    "colab": {
     "base_uri": "https://localhost:8080/"
    },
    "executionInfo": {
     "elapsed": 410,
     "status": "ok",
     "timestamp": 1678599244427,
     "user": {
      "displayName": "Alimul Rajee",
      "userId": "08618116113454028501"
     },
     "user_tz": -360
    },
    "id": "7of1gthYT6mt",
    "outputId": "f735c861-58ca-4a62-b618-32312f3ecc15"
   },
   "outputs": [
    {
     "name": "stdout",
     "output_type": "stream",
     "text": [
      "All the rooom are dirty\n",
      "[[1, 1, 1, 1], [1, 1, 1, 1], [1, 1, 1, 1], [1, 1, 1, 1]]\n"
     ]
    }
   ],
   "source": [
    "import random\n",
    "\n",
    "def display(room):\n",
    "    print(room)\n",
    "\n",
    "room = [\n",
    "    [1, 1, 1, 1],\n",
    "    [1, 1, 1, 1],\n",
    "    [1, 1, 1, 1],\n",
    "    [1, 1, 1, 1],\n",
    "]\n",
    "print(\"All the rooom are dirty\")\n",
    "display(room)"
   ]
  },
  {
   "cell_type": "code",
   "execution_count": 2,
   "metadata": {
    "colab": {
     "base_uri": "https://localhost:8080/"
    },
    "executionInfo": {
     "elapsed": 393,
     "status": "ok",
     "timestamp": 1678599287727,
     "user": {
      "displayName": "Alimul Rajee",
      "userId": "08618116113454028501"
     },
     "user_tz": -360
    },
    "id": "in1_S288UGG5",
    "outputId": "f27a61f3-261e-4e87-8d2b-165aec2f9d12"
   },
   "outputs": [
    {
     "name": "stdout",
     "output_type": "stream",
     "text": [
      "Before cleaning the room I detect all of these random dirts\n",
      "[[1, 0, 1, 0], [1, 1, 0, 1], [1, 1, 0, 0], [1, 0, 1, 1]]\n"
     ]
    }
   ],
   "source": [
    "x =0\n",
    "y= 0\n",
    "\n",
    "while x < 4:\n",
    "    while y < 4:\n",
    "        room[x][y] = random.choice([0,1])\n",
    "        y+=1\n",
    "    x+=1\n",
    "    y=0\n",
    "\n",
    "print(\"Before cleaning the room I detect all of these random dirts\")\n",
    "display(room)"
   ]
  },
  {
   "cell_type": "code",
   "execution_count": 4,
   "metadata": {
    "colab": {
     "base_uri": "https://localhost:8080/"
    },
    "executionInfo": {
     "elapsed": 405,
     "status": "ok",
     "timestamp": 1678599326508,
     "user": {
      "displayName": "Alimul Rajee",
      "userId": "08618116113454028501"
     },
     "user_tz": -360
    },
    "id": "it7qCm97UOa2",
    "outputId": "9ed605a2-0178-4a81-c069-bd0eaec0c9e5"
   },
   "outputs": [
    {
     "name": "stdout",
     "output_type": "stream",
     "text": [
      "Vaccum in this location now, 0 2\n",
      "cleaned 0 2\n",
      "Vaccum in this location now, 1 1\n",
      "cleaned 1 1\n",
      "Vaccum in this location now, 1 2\n",
      "cleaned 1 2\n",
      "Vaccum in this location now, 1 3\n",
      "cleaned 1 3\n",
      "Vaccum in this location now, 2 0\n",
      "cleaned 2 0\n",
      "Vaccum in this location now, 2 2\n",
      "cleaned 2 2\n",
      "Vaccum in this location now, 2 3\n",
      "cleaned 2 3\n",
      "Vaccum in this location now, 3 0\n",
      "cleaned 3 0\n",
      "Vaccum in this location now, 3 1\n",
      "cleaned 3 1\n",
      "Room is clean now, Thanks for using : 3710933\n",
      "[[0, 0, 0, 0], [0, 0, 0, 0], [0, 0, 0, 0], [0, 0, 0, 0]]\n",
      "performance= 43.75 %\n"
     ]
    }
   ],
   "source": [
    "x =0\n",
    "y= 0\n",
    "z=0\n",
    "while x < 4:\n",
    "    while y < 4:\n",
    "        if room[x][y] == 1:\n",
    "            print(\"Vaccum in this location now,\",x, y)\n",
    "            room[x][y] = 0\n",
    "            print(\"cleaned\", x, y)\n",
    "            z+=1\n",
    "        y+=1\n",
    "    x+=1\n",
    "    y=0\n",
    "pro= (100-((z/16)*100))\n",
    "print(\"Room is clean now, Thanks for using : 3710933\")\n",
    "display(room)\n",
    "print('performance=',pro,'%')"
   ]
  },
  {
   "cell_type": "code",
   "execution_count": 1,
   "metadata": {
    "colab": {
     "base_uri": "https://localhost:8080/"
    },
    "executionInfo": {
     "elapsed": 7,
     "status": "ok",
     "timestamp": 1678599032025,
     "user": {
      "displayName": "Alimul Rajee",
      "userId": "08618116113454028501"
     },
     "user_tz": -360
    },
    "id": "jILfgXvLRvG_",
    "outputId": "f5649cfe-3590-4e6b-e770-32266408b037"
   },
   "outputs": [
    {
     "name": "stdout",
     "output_type": "stream",
     "text": [
      "All the rooom are dirty\n",
      "[[1, 1, 1, 1], [1, 1, 1, 1], [1, 1, 1, 1], [1, 1, 1, 1]]\n",
      "Before cleaning the room I detect all of these random dirts\n",
      "[[1, 1, 1, 0], [1, 1, 1, 1], [1, 0, 1, 0], [1, 1, 1, 1]]\n",
      "Vaccum in this location now, 0 0\n",
      "cleaned 0 0\n",
      "Vaccum in this location now, 0 1\n",
      "cleaned 0 1\n",
      "Vaccum in this location now, 0 2\n",
      "cleaned 0 2\n",
      "Vaccum in this location now, 1 0\n",
      "cleaned 1 0\n",
      "Vaccum in this location now, 1 1\n",
      "cleaned 1 1\n",
      "Vaccum in this location now, 1 2\n",
      "cleaned 1 2\n",
      "Vaccum in this location now, 1 3\n",
      "cleaned 1 3\n",
      "Vaccum in this location now, 2 0\n",
      "cleaned 2 0\n",
      "Vaccum in this location now, 2 2\n",
      "cleaned 2 2\n",
      "Vaccum in this location now, 3 0\n",
      "cleaned 3 0\n",
      "Vaccum in this location now, 3 1\n",
      "cleaned 3 1\n",
      "Vaccum in this location now, 3 2\n",
      "cleaned 3 2\n",
      "Vaccum in this location now, 3 3\n",
      "cleaned 3 3\n",
      "Room is clean now, Thanks for using : 3710933\n",
      "[[0, 0, 0, 0], [0, 0, 0, 0], [0, 0, 0, 0], [0, 0, 0, 0]]\n",
      "performance= 18.75 %\n"
     ]
    }
   ],
   "source": [
    "import random\n",
    "\n",
    "def display(room):\n",
    "    print(room)\n",
    "\n",
    "room = [\n",
    "    [1, 1, 1, 1],\n",
    "    [1, 1, 1, 1],\n",
    "    [1, 1, 1, 1],\n",
    "    [1, 1, 1, 1],\n",
    "]\n",
    "print(\"All the rooom are dirty\")\n",
    "display(room)\n",
    "\n",
    "x =0\n",
    "y= 0\n",
    "\n",
    "while x < 4:\n",
    "    while y < 4:\n",
    "        room[x][y] = random.choice([0,1])\n",
    "        y+=1\n",
    "    x+=1\n",
    "    y=0\n",
    "\n",
    "print(\"Before cleaning the room I detect all of these random dirts\")\n",
    "display(room)\n",
    "x =0\n",
    "y= 0\n",
    "z=0\n",
    "while x < 4:\n",
    "    while y < 4:\n",
    "        if room[x][y] == 1:\n",
    "            print(\"Vaccum in this location now,\",x, y)\n",
    "            room[x][y] = 0\n",
    "            print(\"cleaned\", x, y)\n",
    "            z+=1\n",
    "        y+=1\n",
    "    x+=1\n",
    "    y=0\n",
    "pro= (100-((z/16)*100))\n",
    "print(\"Room is clean now, Thanks for using : 3710933\")\n",
    "display(room)\n",
    "print('performance=',pro,'%')\n"
   ]
  }
 ],
 "metadata": {
  "colab": {
   "authorship_tag": "ABX9TyPFjqOIOC6uIYj11/cKayFO",
   "provenance": []
  },
  "kernelspec": {
   "display_name": "Python 3 (ipykernel)",
   "language": "python",
   "name": "python3"
  },
  "language_info": {
   "codemirror_mode": {
    "name": "ipython",
    "version": 3
   },
   "file_extension": ".py",
   "mimetype": "text/x-python",
   "name": "python",
   "nbconvert_exporter": "python",
   "pygments_lexer": "ipython3",
   "version": "3.9.13"
  }
 },
 "nbformat": 4,
 "nbformat_minor": 1
}
