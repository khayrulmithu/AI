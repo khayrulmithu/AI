{
 "cells": [
  {
   "cell_type": "code",
   "execution_count": 1,
   "metadata": {
    "executionInfo": {
     "elapsed": 375,
     "status": "ok",
     "timestamp": 1678600182429,
     "user": {
      "displayName": "Alimul Rajee",
      "userId": "08618116113454028501"
     },
     "user_tz": -360
    },
    "id": "xXf-poQyi7Mo"
   },
   "outputs": [],
   "source": [
    "dict_graph = {}"
   ]
  },
  {
   "cell_type": "code",
   "execution_count": 2,
   "metadata": {
    "executionInfo": {
     "elapsed": 354,
     "status": "ok",
     "timestamp": 1678600198101,
     "user": {
      "displayName": "Alimul Rajee",
      "userId": "08618116113454028501"
     },
     "user_tz": -360
    },
    "id": "g9LaWARyjebk"
   },
   "outputs": [
    {
     "ename": "FileNotFoundError",
     "evalue": "[Errno 2] No such file or directory: 'data.txt'",
     "output_type": "error",
     "traceback": [
      "\u001b[1;31m---------------------------------------------------------------------------\u001b[0m",
      "\u001b[1;31mFileNotFoundError\u001b[0m                         Traceback (most recent call last)",
      "\u001b[1;32m~\\AppData\\Local\\Temp\\ipykernel_4256\\3457323747.py\u001b[0m in \u001b[0;36m<module>\u001b[1;34m\u001b[0m\n\u001b[0;32m      1\u001b[0m \u001b[1;31m# Read the data.txt file\u001b[0m\u001b[1;33m\u001b[0m\u001b[1;33m\u001b[0m\u001b[0m\n\u001b[1;32m----> 2\u001b[1;33m \u001b[1;32mwith\u001b[0m \u001b[0mopen\u001b[0m\u001b[1;33m(\u001b[0m\u001b[1;34m'data.txt'\u001b[0m\u001b[1;33m,\u001b[0m \u001b[1;34m'r'\u001b[0m\u001b[1;33m)\u001b[0m \u001b[1;32mas\u001b[0m \u001b[0mf\u001b[0m\u001b[1;33m:\u001b[0m\u001b[1;33m\u001b[0m\u001b[1;33m\u001b[0m\u001b[0m\n\u001b[0m\u001b[0;32m      3\u001b[0m     \u001b[1;32mfor\u001b[0m \u001b[0ml\u001b[0m \u001b[1;32min\u001b[0m \u001b[0mf\u001b[0m\u001b[1;33m:\u001b[0m\u001b[1;33m\u001b[0m\u001b[1;33m\u001b[0m\u001b[0m\n\u001b[0;32m      4\u001b[0m         \u001b[0mcity_a\u001b[0m\u001b[1;33m,\u001b[0m \u001b[0mcity_b\u001b[0m\u001b[1;33m,\u001b[0m \u001b[0mp_cost\u001b[0m \u001b[1;33m=\u001b[0m \u001b[0ml\u001b[0m\u001b[1;33m.\u001b[0m\u001b[0msplit\u001b[0m\u001b[1;33m(\u001b[0m\u001b[1;33m)\u001b[0m\u001b[1;33m\u001b[0m\u001b[1;33m\u001b[0m\u001b[0m\n\u001b[0;32m      5\u001b[0m         \u001b[1;32mif\u001b[0m \u001b[0mcity_a\u001b[0m \u001b[1;32mnot\u001b[0m \u001b[1;32min\u001b[0m \u001b[0mdict_graph\u001b[0m\u001b[1;33m:\u001b[0m\u001b[1;33m\u001b[0m\u001b[1;33m\u001b[0m\u001b[0m\n",
      "\u001b[1;31mFileNotFoundError\u001b[0m: [Errno 2] No such file or directory: 'data.txt'"
     ]
    }
   ],
   "source": [
    "# Read the data.txt file\n",
    "with open('data.txt', 'r') as f:\n",
    "    for l in f:\n",
    "        city_a, city_b, p_cost = l.split()\n",
    "        if city_a not in dict_graph:\n",
    "            dict_graph[city_a] = {}\n",
    "        dict_graph[city_a][city_b] = int(p_cost)\n",
    "        if city_b not in dict_graph:\n",
    "            dict_graph[city_b] = {}\n",
    "        dict_graph[city_b][city_a] = int(p_cost)"
   ]
  },
  {
   "cell_type": "code",
   "execution_count": 2,
   "metadata": {
    "executionInfo": {
     "elapsed": 3,
     "status": "ok",
     "timestamp": 1678600138512,
     "user": {
      "displayName": "Alimul Rajee",
      "userId": "08618116113454028501"
     },
     "user_tz": -360
    },
    "id": "YeG9udJMjelr"
   },
   "outputs": [],
   "source": [
    "# Breadth First Search Method\n",
    "def BreadthFirstSearch(graph, src, dst):\n",
    "    q = [(src, [src], 0)]\n",
    "    visited = {src}\n",
    "    while q:\n",
    "        (node, path, cost) = q.pop(0)\n",
    "        for temp in graph[node].keys():\n",
    "            if temp == dst:\n",
    "                return path + [temp], cost + graph[node][temp]\n",
    "            else:\n",
    "                if temp not in visited:\n",
    "                    visited.add(temp)\n",
    "                    q.append((temp, path + [temp], cost + graph[node][temp]))"
   ]
  },
  {
   "cell_type": "code",
   "execution_count": 3,
   "metadata": {
    "executionInfo": {
     "elapsed": 360,
     "status": "ok",
     "timestamp": 1678600152991,
     "user": {
      "displayName": "Alimul Rajee",
      "userId": "08618116113454028501"
     },
     "user_tz": -360
    },
    "id": "mVd2Fw3ljeqZ"
   },
   "outputs": [],
   "source": [
    "\n",
    "# Depth First Search Method\n",
    "def DepthFirstSearch(graph, src, dst):\n",
    "    stack = [(src, [src], 0)]\n",
    "    visited = {src}\n",
    "    while stack:\n",
    "        (node, path, cost) = stack.pop()\n",
    "        for temp in graph[node].keys():\n",
    "            if temp == dst:\n",
    "                return path + [temp], cost + graph[node][temp]\n",
    "            else:\n",
    "                if temp not in visited:\n",
    "                    visited.add(temp)\n",
    "                    stack.append((temp, path + [temp], cost + graph[node][temp]))\n",
    "\n",
    "\n"
   ]
  },
  {
   "cell_type": "code",
   "execution_count": 4,
   "metadata": {
    "executionInfo": {
     "elapsed": 363,
     "status": "ok",
     "timestamp": 1678600158388,
     "user": {
      "displayName": "Alimul Rajee",
      "userId": "08618116113454028501"
     },
     "user_tz": -360
    },
    "id": "ZH-J14ozj1cK"
   },
   "outputs": [],
   "source": [
    "# Iterative Deepening Search Method\n",
    "def IterativeDeepening(graph, src, dst):\n",
    "    level = 0\n",
    "    count = 0\n",
    "    stack = [(src, [src], 0)]\n",
    "    visited = {src}\n",
    "    while True:\n",
    "        level += 1\n",
    "        while stack:\n",
    "            if count <= level:\n",
    "                count = 0\n",
    "                (node, path, cost) = stack.pop()\n",
    "                for temp in graph[node].keys():\n",
    "                    if temp == dst:\n",
    "                        return path + [temp], cost + graph[node][temp]\n",
    "                    else:\n",
    "                        if temp not in visited:\n",
    "                            visited.add(temp)\n",
    "                            count += 1\n",
    "                            stack.append((temp, path + [temp], cost + graph[node][temp]))\n",
    "            else:\n",
    "                q = stack\n",
    "                visited_bfs = {src}\n",
    "                while q:\n",
    "                    (node, path, cost) = q.pop(0)\n",
    "                    for temp in graph[node].keys():\n",
    "                        if temp == dst:\n",
    "                            return path + [temp], cost + graph[node][temp]\n",
    "                        else:\n",
    "                            if temp not in visited_bfs:\n",
    "                                visited_bfs.add(temp)\n",
    "                                q.append((temp, path + [temp], cost + graph[node][temp]))\n",
    "                break\n",
    "\n"
   ]
  },
  {
   "cell_type": "code",
   "execution_count": 9,
   "metadata": {
    "colab": {
     "base_uri": "https://localhost:8080/"
    },
    "executionInfo": {
     "elapsed": 355,
     "status": "ok",
     "timestamp": 1678600202544,
     "user": {
      "displayName": "Alimul Rajee",
      "userId": "08618116113454028501"
     },
     "user_tz": -360
    },
    "id": "SPVjZI_-mlNQ",
    "outputId": "edc72c39-c770-4137-f8f4-878c3076ea45"
   },
   "outputs": [
    {
     "name": "stdout",
     "output_type": "stream",
     "text": [
      "{'Oradea': {'Zerind': 71, 'Sibiu': 151}, 'Zerind': {'Oradea': 71, 'Arad': 75}, 'Sibiu': {'Oradea': 151, 'Arad': 140, 'Rimnicu_Vilcea': 80, 'Fagaras': 99}, 'Arad': {'Zerind': 75, 'Sibiu': 140, 'Timisoara': 118}, 'Timisoara': {'Arad': 118, 'Lugoj': 111}, 'Lugoj': {'Timisoara': 111, 'Mehadia': 70}, 'Mehadia': {'Lugoj': 70, 'Drobeta': 75}, 'Drobeta': {'Mehadia': 75, 'Craiova': 120}, 'Craiova': {'Drobeta': 120, 'Rimnicu_Vilcea': 146, 'Piteshi': 138}, 'Rimnicu_Vilcea': {'Sibiu': 80, 'Piteshi': 97, 'Craiova': 146}, 'Fagaras': {'Sibiu': 99, 'Bucharest': 211}, 'Piteshi': {'Rimnicu_Vilcea': 97, 'Craiova': 138, 'Bucharest': 101}, 'Bucharest': {'Piteshi': 101, 'Fagaras': 211, 'Giurgiu': 90, 'Urziceni': 85}, 'Giurgiu': {'Bucharest': 90}, 'Urziceni': {'Bucharest': 85, 'Hirsova': 98, 'Vaslui': 142}, 'Hirsova': {'Urziceni': 98, 'Eforie': 86}, 'Vaslui': {'Urziceni': 142, 'Iasi': 92}, 'Eforie': {'Hirsova': 86}, 'Iasi': {'Vaslui': 92, 'Neamt': 87}, 'Neamt': {'Iasi': 87}}\n"
     ]
    }
   ],
   "source": [
    "\n",
    "print(dict_graph)\n"
   ]
  },
  {
   "cell_type": "code",
   "execution_count": 10,
   "metadata": {
    "colab": {
     "base_uri": "https://localhost:8080/"
    },
    "executionInfo": {
     "elapsed": 23716,
     "status": "ok",
     "timestamp": 1678600256000,
     "user": {
      "displayName": "Alimul Rajee",
      "userId": "08618116113454028501"
     },
     "user_tz": -360
    },
    "id": "Fzf4BxPKm0xK",
    "outputId": "01117244-0856-4f4c-a2b6-b01c0deca09d"
   },
   "outputs": [
    {
     "name": "stdout",
     "output_type": "stream",
     "text": [
      "Enter the source: Zerind\n",
      "Enter the Destination: Sibiu\n",
      "for BFS\n",
      "(['Zerind', 'Oradea', 'Sibiu'], 222)\n"
     ]
    }
   ],
   "source": [
    "src = input(\"Enter the source: \")\n",
    "dst = input(\"Enter the Destination: \")\n",
    "while src not in dict_graph or dst not in dict_graph:\n",
    "      print (\"No such city name\")\n",
    "      src = input(\"Enter the correct source (case_sensitive):\\n\")\n",
    "      dst = input(\"Enter the correct destination(case_sensitive):\\n \")\n",
    "print (\"for BFS\")\n",
    "print (BreadthFirstSearch(dict_graph, src, dst))"
   ]
  },
  {
   "cell_type": "code",
   "execution_count": null,
   "metadata": {
    "id": "jSnIrEGOoys2"
   },
   "outputs": [],
   "source": [
    "src = input(\"Enter the source: \")\n",
    "dst = input(\"Enter the Destination: \")\n",
    "while src not in dict_graph or dst not in dict_graph:\n",
    "     print(\"No such city name\")\n",
    "     src = input(\"Enter the correct source (case_sensitive):\\n\")\n",
    "     dst = input(\"Enter the correct destination(case_sensitive):\\n \")\n",
    "print(\"for DFS\")\n",
    "print (DepthFirstSearch(dict_graph, src, dst))"
   ]
  },
  {
   "cell_type": "code",
   "execution_count": null,
   "metadata": {
    "id": "kjoBvXVGpL4L"
   },
   "outputs": [],
   "source": [
    "src = input(\"Enter the source: \")\n",
    "dst = input(\"Enter the Destination: \")\n",
    "while src not in dict_graph or dst not in dict_graph:\n",
    "      print (\"No such city name\")\n",
    "      src = input(\"Enter the correct source (case_sensitive):\\n\")\n",
    "      dst = input(\"Enter the correct destination(case_sensitive):\\n \")\n",
    "print (\"for ID\")\n",
    "print (IterativeDeepening(dict_graph, src, dst))"
   ]
  },
  {
   "cell_type": "code",
   "execution_count": null,
   "metadata": {
    "id": "dsWKRzV6kEJK"
   },
   "outputs": [],
   "source": [
    "\n",
    "n=1;\n",
    "print(dict_graph)\n",
    "print(\"------------------------------------------------\")\n",
    "src = input(\"Enter the source:\")\n",
    "dst = input(\"Enter the Destination: \")\n",
    "while src not in dict_graph or dst not in dict_graph:\n",
    "  print (\"No such city name\")\n",
    "  src = input(\"Enter the correct source (case_sensitive):\\n\")\n",
    "  dst = input(\"Enter the correct destination(case_sensitive):\\n\")\n",
    "\n",
    "x = input(\"enter the type of search you want to do \\n1.BFS 2.DFS 3.ID:: \\n \")\n",
    "if(x==1):\n",
    "  print(\"for BFS\")\n",
    "  print(BreadthFirstSearch(dict_graph, src, dst))\n",
    "elif(x==2):\n",
    "  print(\"for DFS\")\n",
    "  print(DepthFirstSearch(dict_graph, src, dst))\n",
    "elif(x==3):\n",
    "  print(\"for ID\")\n",
    "  print(IterativeDeepening(dict_graph, src, dst))"
   ]
  }
 ],
 "metadata": {
  "colab": {
   "authorship_tag": "ABX9TyPTMiKaxzLKtStcdsBzxaVd",
   "provenance": []
  },
  "kernelspec": {
   "display_name": "Python 3 (ipykernel)",
   "language": "python",
   "name": "python3"
  },
  "language_info": {
   "codemirror_mode": {
    "name": "ipython",
    "version": 3
   },
   "file_extension": ".py",
   "mimetype": "text/x-python",
   "name": "python",
   "nbconvert_exporter": "python",
   "pygments_lexer": "ipython3",
   "version": "3.9.13"
  }
 },
 "nbformat": 4,
 "nbformat_minor": 1
}
