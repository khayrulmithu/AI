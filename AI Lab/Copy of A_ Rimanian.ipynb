{
 "cells": [
  {
   "cell_type": "code",
   "execution_count": 1,
   "metadata": {
    "executionInfo": {
     "elapsed": 468,
     "status": "ok",
     "timestamp": 1678304770021,
     "user": {
      "displayName": "Alimul Rajee",
      "userId": "08618116113454028501"
     },
     "user_tz": -360
    },
    "id": "1ue54-mutENY"
   },
   "outputs": [],
   "source": [
    "import heapq\n"
   ]
  },
  {
   "cell_type": "code",
   "execution_count": 2,
   "metadata": {
    "executionInfo": {
     "elapsed": 453,
     "status": "ok",
     "timestamp": 1678304793744,
     "user": {
      "displayName": "Alimul Rajee",
      "userId": "08618116113454028501"
     },
     "user_tz": -360
    },
    "id": "-yzMvQTwwnf8"
   },
   "outputs": [],
   "source": [
    "class priorityQueue:\n",
    "    def __init__(self):\n",
    "        self.cities = []\n",
    "\n",
    "    def push(self, city, cost):\n",
    "        heapq.heappush(self.cities, (cost, city))\n",
    "\n",
    "    def pop(self):\n",
    "        return heapq.heappop(self.cities)[1]\n",
    "\n",
    "    def isEmpty(self):\n",
    "        if (self.cities == []):\n",
    "            return True\n",
    "        else:\n",
    "            return False\n",
    "\n",
    "    def check(self):\n",
    "        print(self.cities)\n"
   ]
  },
  {
   "cell_type": "code",
   "execution_count": 3,
   "metadata": {
    "executionInfo": {
     "elapsed": 447,
     "status": "ok",
     "timestamp": 1678304815331,
     "user": {
      "displayName": "Alimul Rajee",
      "userId": "08618116113454028501"
     },
     "user_tz": -360
    },
    "id": "V9Tl-Gmhwvjb"
   },
   "outputs": [],
   "source": [
    "class ctNode:\n",
    "    def __init__(self, city, distance):\n",
    "        self.city = str(city)\n",
    "        self.distance = str(distance)"
   ]
  },
  {
   "cell_type": "code",
   "execution_count": 4,
   "metadata": {
    "executionInfo": {
     "elapsed": 578,
     "status": "ok",
     "timestamp": 1678304833777,
     "user": {
      "displayName": "Alimul Rajee",
      "userId": "08618116113454028501"
     },
     "user_tz": -360
    },
    "id": "8XKZ4xiPwy9I"
   },
   "outputs": [],
   "source": [
    "romania = {}\n",
    "\n",
    "\n",
    "def makedict():\n",
    "    file = open(\"romania.txt\", 'r')\n",
    "    for string in file:\n",
    "        line = string.split(',')\n",
    "        ct1 = line[0]\n",
    "        ct2 = line[1]\n",
    "        dist = int(line[2])\n",
    "        romania.setdefault(ct1, []).append(ctNode(ct2, dist))\n",
    "        romania.setdefault(ct2, []).append(ctNode(ct1, dist))\n",
    "\n",
    "\n",
    "def makehuristikdict():\n",
    "    h = {}\n",
    "    with open(\"romania_sld.txt\", 'r') as file:\n",
    "        for line in file:\n",
    "            line = line.strip().split(\",\")\n",
    "            node = line[0].strip()\n",
    "            sld = int(line[1].strip())\n",
    "            h[node] = sld\n",
    "    return h"
   ]
  },
  {
   "cell_type": "code",
   "execution_count": 5,
   "metadata": {
    "executionInfo": {
     "elapsed": 486,
     "status": "ok",
     "timestamp": 1678304864111,
     "user": {
      "displayName": "Alimul Rajee",
      "userId": "08618116113454028501"
     },
     "user_tz": -360
    },
    "id": "_ZffebvSw3MQ"
   },
   "outputs": [],
   "source": [
    "def heuristic(node, values):\n",
    "    return values[node]\n",
    "\n",
    "\n",
    "def astar(start, end):\n",
    "    path = {}\n",
    "    distance = {}\n",
    "    q = priorityQueue()\n",
    "    h = makehuristikdict()\n",
    "\n",
    "    q.push(start, 0)\n",
    "    distance[start] = 0\n",
    "    path[start] = None\n",
    "    expandedList = []\n",
    "\n",
    "    while (q.isEmpty() == False):\n",
    "        current = q.pop()\n",
    "        expandedList.append(current)\n",
    "\n",
    "        if (current == end):\n",
    "            break\n",
    "\n",
    "        for new in romania[current]:\n",
    "            g_cost = distance[current] + int(new.distance)\n",
    "\n",
    "            # print(new.city, new.distance, \"now : \" + str(distance[current]), g_cost)\n",
    "\n",
    "            if (new.city not in distance or g_cost < distance[new.city]):\n",
    "                distance[new.city] = g_cost\n",
    "                f_cost = g_cost + heuristic(new.city, h)\n",
    "                q.push(new.city, f_cost)\n",
    "                path[new.city] = current\n",
    "\n",
    "    printoutput(start, end, path, distance, expandedList)"
   ]
  },
  {
   "cell_type": "code",
   "execution_count": 14,
   "metadata": {
    "executionInfo": {
     "elapsed": 8,
     "status": "ok",
     "timestamp": 1678305370176,
     "user": {
      "displayName": "Alimul Rajee",
      "userId": "08618116113454028501"
     },
     "user_tz": -360
    },
    "id": "l7OlFGPDw97q"
   },
   "outputs": [],
   "source": [
    "def printoutput(start, end, path, distance, expandedlist):\n",
    "    finalpath = []\n",
    "    i = end\n",
    "\n",
    "    while (path.get(i) != None):\n",
    "        finalpath.append(i)\n",
    "        i = path[i]\n",
    "    finalpath.append(start)\n",
    "    finalpath.reverse()\n",
    "    print(\"A* Algorithm Program for Romanian Problems\")\n",
    "    print(\"\\tFrom \"+start+\" to \"+end)\n",
    "    print(\"=======================================================\")\n",
    "    print(\"City that might be explored \\t\\t: \" + str(expandedlist))\n",
    "    print(\"The number of possible cities \\t\\t: \" + str(len(expandedlist)))\n",
    "    print(\"=======================================================\")\n",
    "    print(\"City that is passed by the shortest distance\\t: \" + str(finalpath))\n",
    "    print(\"The number of cities that are passed \\t\\t\\t: \" + str(len(finalpath)))\n",
    "    print(\"Total distance \\t\\t\\t\\t\\t\\t: \" + str(distance[end]))\n"
   ]
  },
  {
   "cell_type": "code",
   "execution_count": 15,
   "metadata": {
    "colab": {
     "base_uri": "https://localhost:8080/"
    },
    "executionInfo": {
     "elapsed": 527,
     "status": "ok",
     "timestamp": 1678305374956,
     "user": {
      "displayName": "Alimul Rajee",
      "userId": "08618116113454028501"
     },
     "user_tz": -360
    },
    "id": "rxrgx7COwhYo",
    "outputId": "e592c38e-8476-4aa9-b1bd-82d6ddb19929"
   },
   "outputs": [
    {
     "name": "stdout",
     "output_type": "stream",
     "text": [
      "A* Algorithm Program for Romanian Problems\n",
      "\tFrom Arad to Bucharest\n",
      "=======================================================\n",
      "City that might be explored \t\t: ['Arad', 'Sibiu', 'Rimnicu Vilcea', 'Fagaras', 'Pitesti', 'Bucharest']\n",
      "The number of possible cities \t\t: 6\n",
      "=======================================================\n",
      "City that is passed by the shortest distance\t: ['Arad', 'Sibiu', 'Rimnicu Vilcea', 'Pitesti', 'Bucharest']\n",
      "The number of cities that are passed \t\t\t: 5\n",
      "Total distance \t\t\t\t\t\t: 418\n"
     ]
    }
   ],
   "source": [
    "    src = \"Arad\"\n",
    "    dst = \"Bucharest\"\n",
    "    makedict()\n",
    "    astar(src, dst)\n"
   ]
  },
  {
   "cell_type": "code",
   "execution_count": 9,
   "metadata": {
    "executionInfo": {
     "elapsed": 473,
     "status": "ok",
     "timestamp": 1678304975908,
     "user": {
      "displayName": "Alimul Rajee",
      "userId": "08618116113454028501"
     },
     "user_tz": -360
    },
    "id": "cu5yDoCOxK8K"
   },
   "outputs": [],
   "source": [
    "\n"
   ]
  }
 ],
 "metadata": {
  "colab": {
   "authorship_tag": "ABX9TyMavFkwaNc8pd0I3kNIhbBi",
   "provenance": []
  },
  "kernelspec": {
   "display_name": "Python 3 (ipykernel)",
   "language": "python",
   "name": "python3"
  },
  "language_info": {
   "codemirror_mode": {
    "name": "ipython",
    "version": 3
   },
   "file_extension": ".py",
   "mimetype": "text/x-python",
   "name": "python",
   "nbconvert_exporter": "python",
   "pygments_lexer": "ipython3",
   "version": "3.9.13"
  }
 },
 "nbformat": 4,
 "nbformat_minor": 1
}
